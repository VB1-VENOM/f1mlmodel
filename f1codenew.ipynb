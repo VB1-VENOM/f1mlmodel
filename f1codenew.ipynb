{
 "cells": [
  {
   "cell_type": "code",
   "execution_count": null,
   "id": "cb38717f",
   "metadata": {},
   "outputs": [],
   "source": [
    "import numpy as np\n",
    "import pandas as pd\n",
    "import seaborn as sns\n",
    "import os\n",
    "import matplotlib.pyplot as plt\n",
    "import time\n",
    "from sklearn.preprocessing import StandardScaler\n",
    "from sklearn.model_selection import train_test_split\n",
    "\n",
    "import keras\n",
    "from keras.models import Sequential\n",
    "from keras.layers import Dense\n",
    "\n",
    "# fix random seed for reproducibility\n",
    "seed = 155\n",
    "np.random.seed(seed)\n",
    "\n",
    "# load dataset\n",
    "\n",
    "# download directly from website\n",
    "\n",
    "# import from local directory\n",
    "dataset = pd.read_csv(\"/Users/varunsatheesh/Desktop/Trancend Files/f1 databases/finalma2.csv\", header=None).values\n",
    "dataset"
   ]
  },
  {
   "cell_type": "code",
   "execution_count": null,
   "id": "753eb659",
   "metadata": {},
   "outputs": [],
   "source": [
    "X_train, X_test, Y_train, Y_test = train_test_split(dataset[:,0:4], dataset[:,4], \n",
    "                                                    test_size=0.25, random_state=87)"
   ]
  },
  {
   "cell_type": "code",
   "execution_count": null,
   "id": "4120967b",
   "metadata": {},
   "outputs": [],
   "source": [
    "np.random.seed(seed)\n",
    "my_first_nn = Sequential() # create model\n",
    "my_first_nn.add(Dense(5, input_dim=4, activation='relu')) # hidden layer\n",
    "my_first_nn.add(Dense(1, activation='sigmoid')) # output layer\n",
    "my_first_nn.compile(loss='binary_crossentropy', optimizer='adam', metrics=['accuracy'])"
   ]
  },
  {
   "cell_type": "code",
   "execution_count": null,
   "id": "b70e2db0",
   "metadata": {},
   "outputs": [],
   "source": [
    "# optional\n",
    "from keras.callbacks import ModelCheckpoint\n",
    "# specify filepath- this will write a new file for each epoch with the epoch number contained within the filename\n",
    "filepath=\"nn_weights-{epoch:02d}.hdf5\"\n",
    "checkpoint = keras.callbacks.ModelCheckpoint(filepath, monitor='val_acc', verbose=0, \n",
    "                                             save_weights_only=False, save_best_only=False, mode='max')\n"
   ]
  },
  {
   "cell_type": "code",
   "execution_count": null,
   "id": "cbf1c745",
   "metadata": {},
   "outputs": [],
   "source": [
    "# verbose=0 suppresses the file writing message\n",
    "# note that the fit method expects a list of callbacks\n",
    "my_first_nn_fitted = my_first_nn.fit(X_train, Y_train, epochs=1000, verbose=0, batch_size=X_train.shape[0],\n",
    "                                     callbacks=[checkpoint], initial_epoch=0)"
   ]
  },
  {
   "cell_type": "code",
   "execution_count": null,
   "id": "745b45c3",
   "metadata": {},
   "outputs": [],
   "source": [
    "my_first_nn.evaluate(X_test, Y_test, verbose=0)"
   ]
  },
  {
   "cell_type": "code",
   "execution_count": null,
   "id": "eff33b02",
   "metadata": {},
   "outputs": [],
   "source": [
    "# training loss and accuracy over the first five epochs\n",
    "[my_first_nn_fitted.history['loss'][0:5], my_first_nn_fitted.history['acc'][0:5]]"
   ]
  },
  {
   "cell_type": "code",
   "execution_count": null,
   "id": "949019e1",
   "metadata": {},
   "outputs": [],
   "source": [
    "temp_test_model = Sequential() # create model\n",
    "temp_test_model.add(Dense(5, input_dim=8, activation='relu')) # hidden layer\n",
    "temp_test_model.add(Dense(1, activation='sigmoid')) # output layer\n",
    "temp_test_model.compile(loss='binary_crossentropy', optimizer='adam', metrics=['accuracy'])\n",
    "test_over_time = []\n",
    "for i in range(len(my_first_nn_fitted.history['acc'])):\n",
    "    temp_test_model.load_weights(\"nn_weights-%02d.hdf5\" % i)\n",
    "    scores = temp_test_model.evaluate(X_test, Y_test, verbose=0)\n",
    "    # 0 is loss; 1 is accuracy\n",
    "    test_over_time.append(scores)"
   ]
  },
  {
   "cell_type": "code",
   "execution_count": null,
   "id": "9e14cc27",
   "metadata": {},
   "outputs": [],
   "source": [
    "fig, (ax1, ax2) = plt.subplots(2, 1)\n",
    "ax1.plot(range(len(my_first_nn_fitted.history['loss'])), my_first_nn_fitted.history['loss'],linestyle='-', color='blue',label='Training', lw=2)\n",
    "ax1.plot(range(len(np.array(test_over_time)[:,0])), np.array(test_over_time)[:,0], linestyle='-', color='green',label='Test', lw=2)\n",
    "ax2.plot(range(len(my_first_nn_fitted.history['acc'])), my_first_nn_fitted.history['acc'],linestyle='-', color='blue',label='Training', lw=2)\n",
    "ax2.plot(range(len(np.array(test_over_time)[:,1])), np.array(test_over_time)[:,1], linestyle='-', color='green',label='Test', lw=2)\n",
    "leg = ax1.legend(bbox_to_anchor=(0.7, 0.9), loc=2, borderaxespad=0.,fontsize=13)\n",
    "ax1.set_xticklabels('')\n",
    "#ax1.set_yscale('log')\n",
    "ax2.set_xlabel('# Epochs',fontsize=14)\n",
    "ax1.set_ylabel('Loss',fontsize=14)\n",
    "ax2.set_ylabel('Accuracy',fontsize=14)\n",
    "plt.show()"
   ]
  }
 ],
 "metadata": {
  "kernelspec": {
   "display_name": "Python 3 (ipykernel)",
   "language": "python",
   "name": "python3"
  },
  "language_info": {
   "codemirror_mode": {
    "name": "ipython",
    "version": 3
   },
   "file_extension": ".py",
   "mimetype": "text/x-python",
   "name": "python",
   "nbconvert_exporter": "python",
   "pygments_lexer": "ipython3",
   "version": "3.7.0"
  }
 },
 "nbformat": 4,
 "nbformat_minor": 5
}
